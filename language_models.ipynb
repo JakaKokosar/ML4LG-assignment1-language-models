{
 "cells": [
  {
   "attachments": {},
   "cell_type": "markdown",
   "metadata": {},
   "source": [
    "# Asignment 1: Language models\n",
    "\n",
    "## Instructions\n",
    "- Learn how to use BERT, GPT, or T5 large language models.\n",
    "- Select a publicly available text classification dataset in a language of your choice (hate speech, sarcasm, depression or other interesting topic in agreement with the instructor) from, e.g., Kaggle or Google dataset search.\n",
    "- Compare the performance of two different types of fine-tuned large language models (e.g.,  fine-tuned BERT model with fine-tuned T5 model) .\n",
    "- Prepare the code as a Jupyter notebook.\n",
    "- Prepare a short report of your work (the data set, parameters used, results, analysis) on max. 2 pages"
   ]
  },
  {
   "attachments": {},
   "cell_type": "markdown",
   "metadata": {},
   "source": [
    "## Data preparation"
   ]
  },
  {
   "cell_type": "code",
   "execution_count": 3,
   "metadata": {},
   "outputs": [
    {
     "name": "stdout",
     "output_type": "stream",
     "text": [
      "(180040, 2) (30212, 2) (30135, 2)\n"
     ]
    }
   ],
   "source": [
    "import pandas as pd\n",
    "import numpy as np\n",
    "import matplotlib.pyplot as plt\n",
    "\n",
    "# this was used to convert original files to simpler csv fomat ready for pandas\n",
    "def read_from_file(file_name: str):\n",
    "    data = []\n",
    "    with open(file_name, 'r') as fp:\n",
    "        for line in fp:\n",
    "            if line.startswith('###'):\n",
    "                continue\n",
    "\n",
    "            if not line.strip():\n",
    "                continue\n",
    "\n",
    "            label, text = line.split('\\t')\n",
    "            data.append((label, text.strip()))\n",
    "    return data \n",
    "\n",
    "\n",
    "# prepare train data\n",
    "df = pd.read_csv('data/train.csv', sep=',')\n",
    "# drop missing rows if any\n",
    "df = df.dropna(subset = ['text'])\n",
    "\n",
    "\n",
    "# prepare validation data\n",
    "df_validate = pd.read_csv('data/dev.csv', sep=',')\n",
    "df_validate = df_validate.dropna(subset = ['text'])\n",
    "\n",
    "# prepare test data\n",
    "df_test = pd.read_csv('data/test.csv', sep=',')\n",
    "df_test = df_test.dropna(subset = ['text'])\n",
    "\n",
    "# print senatance counts\n",
    "print('Number of train sentences: {:,}\\n'.format(df.shape[0]))\n",
    "print('Number of validate sentences: {:,}\\n'.format(df.df_validate[0]))\n",
    "print('Number of test sentences: {:,}`n'.format(df_test.shape[0]))"
   ]
  },
  {
   "attachments": {},
   "cell_type": "markdown",
   "metadata": {},
   "source": [
    "# Data exploration"
   ]
  },
  {
   "cell_type": "code",
   "execution_count": 4,
   "metadata": {},
   "outputs": [
    {
     "data": {
      "text/html": [
       "<div>\n",
       "<style scoped>\n",
       "    .dataframe tbody tr th:only-of-type {\n",
       "        vertical-align: middle;\n",
       "    }\n",
       "\n",
       "    .dataframe tbody tr th {\n",
       "        vertical-align: top;\n",
       "    }\n",
       "\n",
       "    .dataframe thead th {\n",
       "        text-align: right;\n",
       "    }\n",
       "</style>\n",
       "<table border=\"1\" class=\"dataframe\">\n",
       "  <thead>\n",
       "    <tr style=\"text-align: right;\">\n",
       "      <th></th>\n",
       "      <th>label</th>\n",
       "      <th>text</th>\n",
       "    </tr>\n",
       "  </thead>\n",
       "  <tbody>\n",
       "    <tr>\n",
       "      <th>0</th>\n",
       "      <td>OBJECTIVE</td>\n",
       "      <td>To investigate the efficacy of 6 weeks of dail...</td>\n",
       "    </tr>\n",
       "    <tr>\n",
       "      <th>1</th>\n",
       "      <td>METHODS</td>\n",
       "      <td>A total of 125 patients with primary knee OA w...</td>\n",
       "    </tr>\n",
       "    <tr>\n",
       "      <th>2</th>\n",
       "      <td>METHODS</td>\n",
       "      <td>Outcome measures included pain reduction and i...</td>\n",
       "    </tr>\n",
       "    <tr>\n",
       "      <th>3</th>\n",
       "      <td>METHODS</td>\n",
       "      <td>Pain was assessed using the visual analog pain...</td>\n",
       "    </tr>\n",
       "    <tr>\n",
       "      <th>4</th>\n",
       "      <td>METHODS</td>\n",
       "      <td>Secondary outcome measures included the Wester...</td>\n",
       "    </tr>\n",
       "  </tbody>\n",
       "</table>\n",
       "</div>"
      ],
      "text/plain": [
       "       label                                               text\n",
       "0  OBJECTIVE  To investigate the efficacy of 6 weeks of dail...\n",
       "1    METHODS  A total of 125 patients with primary knee OA w...\n",
       "2    METHODS  Outcome measures included pain reduction and i...\n",
       "3    METHODS  Pain was assessed using the visual analog pain...\n",
       "4    METHODS  Secondary outcome measures included the Wester..."
      ]
     },
     "execution_count": 4,
     "metadata": {},
     "output_type": "execute_result"
    }
   ],
   "source": [
    "df.head()"
   ]
  },
  {
   "cell_type": "code",
   "execution_count": 34,
   "metadata": {},
   "outputs": [
    {
     "data": {
      "text/plain": [
       "METHODS        0.329666\n",
       "RESULTS        0.321890\n",
       "CONCLUSIONS    0.150900\n",
       "BACKGROUND     0.120679\n",
       "OBJECTIVE      0.076866\n",
       "Name: label, dtype: float64"
      ]
     },
     "execution_count": 34,
     "metadata": {},
     "output_type": "execute_result"
    }
   ],
   "source": [
    "# check class distribution\n",
    "df['label'].value_counts(normalize=True)"
   ]
  },
  {
   "cell_type": "code",
   "execution_count": 47,
   "metadata": {},
   "outputs": [
    {
     "name": "stdout",
     "output_type": "stream",
     "text": [
      "Max text length: 296\n",
      "Min text length: 1\n",
      "99 quantile : 80.0\n"
     ]
    },
    {
     "data": {
      "image/png": "[encoded data removed]",
      "text/plain": [
       "<Figure size 1200x500 with 2 Axes>"
      ]
     },
     "metadata": {},
     "output_type": "display_data"
    }
   ],
   "source": [
    "# print(df[df['text'].str.split().str.len() > 250])\n",
    "# df.iloc[71510]['text']\n",
    "\n",
    "\n",
    "# fig, ax = plt.subplots(figsize = (6,4))\n",
    "fig, ax = plt.subplots(ncols=2, nrows=1, figsize=(12, 5))\n",
    "\n",
    "\n",
    "# plot class distribution\n",
    "df['label'].value_counts(normalize=True).plot(kind='bar', alpha=0.5, edgecolor='black', rot=20, ylabel='Relative frequency',title='Class distribution', ax=ax[0])\n",
    "\n",
    "\n",
    "doc_lengths = pd.Series([len(i.split()) for i in df['text']])\n",
    "print('Max text length:', max(doc_lengths))\n",
    "print('Min text length:', min(doc_lengths))\n",
    "print('99 quantile :', doc_lengths.quantile(0.99))\n",
    "\n",
    "# plot document length distribution\n",
    "ax[1].hist(doc_lengths[doc_lengths <= 200], bins=30, density=False, alpha=0.3, edgecolor='black')\n",
    "\n",
    "\n",
    "# Calculate percentiles\n",
    "quant_50, quant_99 = doc_lengths.quantile(0.50), doc_lengths.quantile(0.99)\n",
    "quants = [[quant_50, 0.6, 0.16], [quant_99, 0.8, 0.26]]\n",
    "for i in quants:\n",
    "    ax[1].axvline(i[0], alpha = 1, ymax = i[2], linestyle = \"--\", color='red')\n",
    "\n",
    "ax[1].text(quant_50-3, 8000, \"50th\", size = 11, alpha = 1)\n",
    "ax[1].text(quant_99-3, 12000, \"99th\", size = 11, alpha = 1)\n",
    "\n",
    "ax[1].set_title(\"Distribution of document length\", size = 14)\n",
    "ax[1].set_ylabel(\"Frequency\")\n",
    "ax[1].set_xlabel(\"Document length\")\n",
    "\n",
    "plt.savefig(\"data.pdf\", format=\"pdf\", bbox_inches=\"tight\")\n",
    "plt.show()"
   ]
  },
  {
   "attachments": {},
   "cell_type": "markdown",
   "metadata": {},
   "source": [
    "## Analysis using BERT langugage model fine-tuned for sequence classification"
   ]
  },
  {
   "cell_type": "code",
   "execution_count": 7,
   "metadata": {},
   "outputs": [
    {
     "name": "stdout",
     "output_type": "stream",
     "text": [
      "To investigate the efficacy of 6 weeks of daily low-dose oral prednisolone in improving pain , mobility , and systemic low-grade inflammation in the short term and whether the effect would be sustained at 12 weeks in older adults with moderate to severe knee osteoarthritis ( OA ) ....\n",
      "[101, 1706, 8242, 1103, 23891, 1104, 127, 2277, 1104, 3828, 1822, 118, 13753, 9619, 3073, 22834, 1548, 12805, 1673, 1107, 9248, 2489, 117, 16178, 117, 1105, 27410, 1822, 118, 3654, 24970, 1107, 1103, 1603, 1858, 1105, 2480, 1103, 2629, 1156, 1129, 8505, 1120, 1367, 2277, 1107, 2214, 6323, 1114, 8828, 1106, 5199, 5656, 184, 13894, 19243, 1582, 7729, 1548, 113, 152, 1592, 114, 119, 102]\n",
      "['[CLS]', 'To', 'investigate', 'the', 'efficacy', 'of', '6', 'weeks', 'of', 'daily', 'low', '-', 'dose', 'oral', 'pre', '##dn', '##is', '##olo', '##ne', 'in', 'improving', 'pain', ',', 'mobility', ',', 'and', 'systemic', 'low', '-', 'grade', 'inflammation', 'in', 'the', 'short', 'term', 'and', 'whether', 'the', 'effect', 'would', 'be', 'sustained', 'at', '12', 'weeks', 'in', 'older', 'adults', 'with', 'moderate', 'to', 'severe', 'knee', 'o', '##ste', '##oar', '##th', '##rit', '##is', '(', 'O', '##A', ')', '.', '[SEP]']\n"
     ]
    },
    {
     "data": {
      "application/vnd.jupyter.widget-view+json": {
       "model_id": "1aa016f043e44666ab852a631b2446f9",
       "version_major": 2,
       "version_minor": 0
      },
      "text/plain": [
       "Map:   0%|          | 0/180040 [00:00<?, ? examples/s]"
      ]
     },
     "metadata": {},
     "output_type": "display_data"
    },
    {
     "data": {
      "application/vnd.jupyter.widget-view+json": {
       "model_id": "2c5844604668465b8053387bc4d1a2b2",
       "version_major": 2,
       "version_minor": 0
      },
      "text/plain": [
       "Map:   0%|          | 0/30212 [00:00<?, ? examples/s]"
      ]
     },
     "metadata": {},
     "output_type": "display_data"
    },
    {
     "data": {
      "application/vnd.jupyter.widget-view+json": {
       "model_id": "212bf49e6dbd45fdb64888c7d82a2246",
       "version_major": 2,
       "version_minor": 0
      },
      "text/plain": [
       "Map:   0%|          | 0/30135 [00:00<?, ? examples/s]"
      ]
     },
     "metadata": {},
     "output_type": "display_data"
    }
   ],
   "source": [
    "from datasets import Dataset\n",
    "from transformers import BertTokenizer\n",
    "\n",
    "tokenizer = BertTokenizer.from_pretrained('bert-base-cased')\n",
    "\n",
    "encoding = tokenizer.encode(df['text'][0], truncation=True, padding=True, max_length=80)\n",
    "\n",
    "sample = df['text'][0].replace('\\n', ' ')\n",
    "print(f\"{sample}...\")\n",
    "print(encoding)\n",
    "print(tokenizer.convert_ids_to_tokens(encoding))\n",
    "\n",
    "label2id = {'METHODS': 0, 'RESULTS': 1, 'CONCLUSIONS': 2, 'BACKGROUND': 3, 'OBJECTIVE': 4}\n",
    "id2label = ['METHODS', 'RESULTS', 'CONCLUSIONS', 'BACKGROUND', 'OBJECTIVE']\n",
    "\n",
    "def preprocess_function(examples):\n",
    "    result = tokenizer(examples['text'], truncation=True, padding=True, max_length=80)\n",
    "    result['label'] = [label2id[l] for l in examples['label']]\n",
    "    return result\n",
    "\n",
    "train_dataset = Dataset.from_pandas(df)\n",
    "validation_dataset = Dataset.from_pandas(df_validate)\n",
    "test_dataset = Dataset.from_pandas(df_test)\n",
    "\n",
    "# dataset = dataset.train_test_split(test_size=0.3)\n",
    "encoded_train_dataset = train_dataset.map(preprocess_function, batched=True) \n",
    "encoded_validation_dataset = validation_dataset.map(preprocess_function, batched=True) \n",
    "encoded_test_dataset = test_dataset.map(preprocess_function, batched=True)\n"
   ]
  },
  {
   "cell_type": "code",
   "execution_count": 11,
   "metadata": {},
   "outputs": [
    {
     "name": "stderr",
     "output_type": "stream",
     "text": [
      "Some weights of the model checkpoint at bert-base-cased were not used when initializing BertForSequenceClassification: ['cls.predictions.transform.dense.bias', 'cls.predictions.transform.LayerNorm.bias', 'cls.seq_relationship.weight', 'cls.seq_relationship.bias', 'cls.predictions.bias', 'cls.predictions.transform.LayerNorm.weight', 'cls.predictions.transform.dense.weight', 'cls.predictions.decoder.weight']\n",
      "- This IS expected if you are initializing BertForSequenceClassification from the checkpoint of a model trained on another task or with another architecture (e.g. initializing a BertForSequenceClassification model from a BertForPreTraining model).\n",
      "- This IS NOT expected if you are initializing BertForSequenceClassification from the checkpoint of a model that you expect to be exactly identical (initializing a BertForSequenceClassification model from a BertForSequenceClassification model).\n",
      "Some weights of BertForSequenceClassification were not initialized from the model checkpoint at bert-base-cased and are newly initialized: ['classifier.weight', 'classifier.bias']\n",
      "You should probably TRAIN this model on a down-stream task to be able to use it for predictions and inference.\n"
     ]
    },
    {
     "name": "stdout",
     "output_type": "stream",
     "text": [
      "{'loss': 0.5811, 'learning_rate': 4.888928381020082e-05, 'epoch': 0.09}\n",
      "{'eval_loss': 0.49539026618003845, 'eval_accuracy': 0.8220574606116775, 'eval_precision': 0.8405922714143468, 'eval_recall': 0.8220574606116775, 'eval_f1': 0.8198286254833546, 'eval_runtime': 84.8188, 'eval_samples_per_second': 356.194, 'eval_steps_per_second': 11.141, 'epoch': 0.09}\n",
      "{'loss': 0.4483, 'learning_rate': 4.777856762040164e-05, 'epoch': 0.18}\n",
      "{'eval_loss': 0.4754386842250824, 'eval_accuracy': 0.8244737190520323, 'eval_precision': 0.8432341524950471, 'eval_recall': 0.8244737190520323, 'eval_f1': 0.8244189619645627, 'eval_runtime': 83.6655, 'eval_samples_per_second': 361.105, 'eval_steps_per_second': 11.295, 'epoch': 0.18}\n",
      "{'loss': 0.4309, 'learning_rate': 4.666785143060245e-05, 'epoch': 0.27}\n",
      "{'eval_loss': 0.39537280797958374, 'eval_accuracy': 0.8590295246921753, 'eval_precision': 0.856131854379345, 'eval_recall': 0.8590295246921753, 'eval_f1': 0.8572053987367394, 'eval_runtime': 84.5997, 'eval_samples_per_second': 357.117, 'eval_steps_per_second': 11.17, 'epoch': 0.27}\n",
      "{'loss': 0.4182, 'learning_rate': 4.5557135240803275e-05, 'epoch': 0.36}\n",
      "{'eval_loss': 0.3959249258041382, 'eval_accuracy': 0.8558188799152655, 'eval_precision': 0.8554915729045611, 'eval_recall': 0.8558188799152655, 'eval_f1': 0.8529198581860736, 'eval_runtime': 84.596, 'eval_samples_per_second': 357.133, 'eval_steps_per_second': 11.171, 'epoch': 0.36}\n",
      "{'loss': 0.4036, 'learning_rate': 4.444641905100409e-05, 'epoch': 0.44}\n",
      "{'eval_loss': 0.37346068024635315, 'eval_accuracy': 0.8611147888256322, 'eval_precision': 0.8734121426354648, 'eval_recall': 0.8611147888256322, 'eval_f1': 0.8562367516980427, 'eval_runtime': 84.7641, 'eval_samples_per_second': 356.425, 'eval_steps_per_second': 11.149, 'epoch': 0.44}\n",
      "{'loss': 0.402, 'learning_rate': 4.333570286120491e-05, 'epoch': 0.53}\n",
      "{'eval_loss': 0.37471017241477966, 'eval_accuracy': 0.8623063683304647, 'eval_precision': 0.8612333773659651, 'eval_recall': 0.8623063683304647, 'eval_f1': 0.8612666893460234, 'eval_runtime': 83.062, 'eval_samples_per_second': 363.728, 'eval_steps_per_second': 11.377, 'epoch': 0.53}\n",
      "{'loss': 0.4047, 'learning_rate': 4.2224986671405726e-05, 'epoch': 0.62}\n",
      "{'eval_loss': 0.36947929859161377, 'eval_accuracy': 0.8657487091222031, 'eval_precision': 0.8700752558081236, 'eval_recall': 0.8657487091222031, 'eval_f1': 0.8637634759865253, 'eval_runtime': 83.523, 'eval_samples_per_second': 361.721, 'eval_steps_per_second': 11.314, 'epoch': 0.62}\n",
      "{'loss': 0.4005, 'learning_rate': 4.111427048160654e-05, 'epoch': 0.71}\n",
      "{'eval_loss': 0.3637104630470276, 'eval_accuracy': 0.8676684761022111, 'eval_precision': 0.8682392154060995, 'eval_recall': 0.8676684761022111, 'eval_f1': 0.8662837752684973, 'eval_runtime': 84.4935, 'eval_samples_per_second': 357.566, 'eval_steps_per_second': 11.184, 'epoch': 0.71}\n",
      "{'loss': 0.3933, 'learning_rate': 4.000355429180736e-05, 'epoch': 0.8}\n",
      "{'eval_loss': 0.38142848014831543, 'eval_accuracy': 0.8649874222163378, 'eval_precision': 0.8664196771538496, 'eval_recall': 0.8649874222163378, 'eval_f1': 0.86407469422341, 'eval_runtime': 84.0356, 'eval_samples_per_second': 359.514, 'eval_steps_per_second': 11.245, 'epoch': 0.8}\n",
      "{'loss': 0.3887, 'learning_rate': 3.8892838102008176e-05, 'epoch': 0.89}\n",
      "{'eval_loss': 0.35795316100120544, 'eval_accuracy': 0.8680987687011783, 'eval_precision': 0.8750673386073652, 'eval_recall': 0.8680987687011783, 'eval_f1': 0.8645631101091428, 'eval_runtime': 84.614, 'eval_samples_per_second': 357.057, 'eval_steps_per_second': 11.168, 'epoch': 0.89}\n",
      "{'loss': 0.3904, 'learning_rate': 3.7782121912209e-05, 'epoch': 0.98}\n",
      "{'eval_loss': 0.365872859954834, 'eval_accuracy': 0.8696213425129088, 'eval_precision': 0.871395116448853, 'eval_recall': 0.8696213425129088, 'eval_f1': 0.8688213670641037, 'eval_runtime': 84.7351, 'eval_samples_per_second': 356.546, 'eval_steps_per_second': 11.152, 'epoch': 0.98}\n",
      "{'loss': 0.3409, 'learning_rate': 3.667140572240981e-05, 'epoch': 1.07}\n",
      "{'eval_loss': 0.37156230211257935, 'eval_accuracy': 0.8679001721170396, 'eval_precision': 0.8700184105380613, 'eval_recall': 0.8679001721170396, 'eval_f1': 0.8679126117063751, 'eval_runtime': 84.6591, 'eval_samples_per_second': 356.867, 'eval_steps_per_second': 11.162, 'epoch': 1.07}\n",
      "{'loss': 0.3204, 'learning_rate': 3.556068953261063e-05, 'epoch': 1.16}\n",
      "{'eval_loss': 0.3665652573108673, 'eval_accuracy': 0.8682311664239375, 'eval_precision': 0.8735947641124603, 'eval_recall': 0.8682311664239375, 'eval_f1': 0.8672854414146713, 'eval_runtime': 84.4447, 'eval_samples_per_second': 357.773, 'eval_steps_per_second': 11.191, 'epoch': 1.16}\n",
      "{'loss': 0.3264, 'learning_rate': 3.444997334281145e-05, 'epoch': 1.24}\n",
      "{'eval_loss': 0.3577435314655304, 'eval_accuracy': 0.8725340924136105, 'eval_precision': 0.8737945258861806, 'eval_recall': 0.8725340924136105, 'eval_f1': 0.8717285514093978, 'eval_runtime': 83.6763, 'eval_samples_per_second': 361.058, 'eval_steps_per_second': 11.294, 'epoch': 1.24}\n",
      "{'loss': 0.3235, 'learning_rate': 3.3339257153012264e-05, 'epoch': 1.33}\n",
      "{'eval_loss': 0.35954219102859497, 'eval_accuracy': 0.8719714020918841, 'eval_precision': 0.8730705349093723, 'eval_recall': 0.8719714020918841, 'eval_f1': 0.8694288595400063, 'eval_runtime': 84.4933, 'eval_samples_per_second': 357.567, 'eval_steps_per_second': 11.184, 'epoch': 1.33}\n",
      "{'loss': 0.3231, 'learning_rate': 3.2228540963213085e-05, 'epoch': 1.42}\n",
      "{'eval_loss': 0.3576502203941345, 'eval_accuracy': 0.8730305838739574, 'eval_precision': 0.870276032288705, 'eval_recall': 0.8730305838739574, 'eval_f1': 0.8712161687092222, 'eval_runtime': 84.4701, 'eval_samples_per_second': 357.665, 'eval_steps_per_second': 11.187, 'epoch': 1.42}\n",
      "{'loss': 0.3239, 'learning_rate': 3.11178247734139e-05, 'epoch': 1.51}\n",
      "{'eval_loss': 0.36218002438545227, 'eval_accuracy': 0.8725009929829207, 'eval_precision': 0.8722587912564557, 'eval_recall': 0.8725009929829207, 'eval_f1': 0.8710076437204359, 'eval_runtime': 84.418, 'eval_samples_per_second': 357.886, 'eval_steps_per_second': 11.194, 'epoch': 1.51}\n",
      "{'train_runtime': 3756.842, 'train_samples_per_second': 191.693, 'train_steps_per_second': 5.991, 'train_loss': 0.38941084379308366, 'epoch': 1.51}\n"
     ]
    },
    {
     "data": {
      "text/plain": [
       "TrainOutput(global_step=8500, training_loss=0.38941084379308366, metrics={'train_runtime': 3756.842, 'train_samples_per_second': 191.693, 'train_steps_per_second': 5.991, 'train_loss': 0.38941084379308366, 'epoch': 1.51})"
      ]
     },
     "execution_count": 11,
     "metadata": {},
     "output_type": "execute_result"
    }
   ],
   "source": [
    "import gc\n",
    "import torch\n",
    "import numpy as np \n",
    "\n",
    "from transformers import  BertForSequenceClassification, TrainingArguments, Trainer, EarlyStoppingCallback\n",
    "from sklearn.metrics import accuracy_score, recall_score, precision_score, f1_score\n",
    "\n",
    "# clear GPU memory\n",
    "trainer = None\n",
    "model = None\n",
    "gc.collect()\n",
    "with torch.no_grad():\n",
    "    torch.cuda.empty_cache()\n",
    "\n",
    "\n",
    "model = BertForSequenceClassification.from_pretrained(\"bert-base-cased\", num_labels=len(id2label))\n",
    "model.cuda()\n",
    "\n",
    "\n",
    "# import evaluate\n",
    "# precision_metric = evaluate.load(\"precision\")\n",
    "# def compute_metrics(eval_pred):\n",
    "#     predictions, labels = eval_pred\n",
    "#     predictions = np.argmax(predictions, axis=-1)\n",
    "#     return precision_metric.compute(predictions=predictions, references=labels)\n",
    "\n",
    "\n",
    "# eval strategy\n",
    "def compute_metrics(eval_pred):\n",
    "   predictions, labels = eval_pred\n",
    "   predictions = np.argmax(predictions, axis=1)\n",
    "\n",
    "   accuracy = accuracy_score(y_true=labels, y_pred=predictions)\n",
    "   recall = recall_score(y_true=labels, y_pred=predictions, average='weighted')\n",
    "   precision = precision_score(y_true=labels, y_pred=predictions, average='weighted')\n",
    "   f1 = f1_score(y_true=labels, y_pred=predictions, average='weighted')\n",
    "   return {\"accuracy\": accuracy, \"precision\": precision, \"recall\": recall, \"f1\": f1}\n",
    "\n",
    "\n",
    "training_args = TrainingArguments(\n",
    "    output_dir=\"final_model_bert\",\n",
    "    # learning_rate=2e-5,\n",
    "    num_train_epochs=4,\n",
    "    evaluation_strategy=\"steps\",\n",
    "    logging_strategy=\"steps\",\n",
    "    save_strategy=\"steps\",\n",
    "    # save_steps=100,\n",
    "    # eval_steps=100,\n",
    "    # logging_steps=100,\n",
    "    disable_tqdm=True,\n",
    "    per_device_train_batch_size = 32,\n",
    "    per_device_eval_batch_size  = 32,\n",
    "    save_total_limit = 3,\n",
    "    metric_for_best_model = 'f1',\n",
    "    load_best_model_at_end=True\n",
    ")\n",
    "\n",
    "trainer = Trainer(\n",
    "    model=model,\n",
    "    args=training_args,\n",
    "    train_dataset=encoded_train_dataset,\n",
    "    eval_dataset=encoded_validation_dataset,\n",
    "    compute_metrics=compute_metrics,\n",
    "    tokenizer=tokenizer,\n",
    "    callbacks = [EarlyStoppingCallback(early_stopping_patience=3)]\n",
    "\n",
    ")\n",
    "\n",
    "trainer.train()\n"
   ]
  },
  {
   "attachments": {},
   "cell_type": "markdown",
   "metadata": {},
   "source": [
    "### Evaluate on validation data"
   ]
  },
  {
   "cell_type": "code",
   "execution_count": 12,
   "metadata": {},
   "outputs": [
    {
     "name": "stdout",
     "output_type": "stream",
     "text": [
      "{'eval_loss': 0.3577435314655304, 'eval_accuracy': 0.8725340924136105, 'eval_precision': 0.8737945258861806, 'eval_recall': 0.8725340924136105, 'eval_f1': 0.8717285514093978, 'eval_runtime': 81.0314, 'eval_samples_per_second': 372.843, 'eval_steps_per_second': 11.662, 'epoch': 1.51}\n"
     ]
    }
   ],
   "source": [
    "eval_results = trainer.evaluate()"
   ]
  },
  {
   "attachments": {},
   "cell_type": "markdown",
   "metadata": {},
   "source": [
    "### Evaluate on test data"
   ]
  },
  {
   "cell_type": "code",
   "execution_count": 51,
   "metadata": {},
   "outputs": [
    {
     "data": {
      "text/plain": [
       "{'test_loss': 0.3901568651199341,\n",
       " 'test_accuracy': 0.8628173220507716,\n",
       " 'test_precision': 0.8645966545933981,\n",
       " 'test_recall': 0.8628173220507716,\n",
       " 'test_f1': 0.8620222763067675,\n",
       " 'test_runtime': 81.2939,\n",
       " 'test_samples_per_second': 370.692,\n",
       " 'test_steps_per_second': 11.588}"
      ]
     },
     "execution_count": 51,
     "metadata": {},
     "output_type": "execute_result"
    }
   ],
   "source": [
    "# Predictions\n",
    "predictions = trainer.predict(encoded_test_dataset)\n",
    "\n",
    "# print metrics\n",
    "predictions[2]"
   ]
  },
  {
   "attachments": {},
   "cell_type": "markdown",
   "metadata": {},
   "source": [
    "## Analysis using GPT langugage model fine-tuned for sequence classification"
   ]
  },
  {
   "cell_type": "code",
   "execution_count": 78,
   "metadata": {},
   "outputs": [
    {
     "data": {
      "application/vnd.jupyter.widget-view+json": {
       "model_id": "0759eae8684a43469af5f6c050b3ab73",
       "version_major": 2,
       "version_minor": 0
      },
      "text/plain": [
       "Map:   0%|          | 0/180040 [00:00<?, ? examples/s]"
      ]
     },
     "metadata": {},
     "output_type": "display_data"
    },
    {
     "data": {
      "application/vnd.jupyter.widget-view+json": {
       "model_id": "373cda31fa234946a86c10ede408a8fc",
       "version_major": 2,
       "version_minor": 0
      },
      "text/plain": [
       "Map:   0%|          | 0/30212 [00:00<?, ? examples/s]"
      ]
     },
     "metadata": {},
     "output_type": "display_data"
    },
    {
     "data": {
      "application/vnd.jupyter.widget-view+json": {
       "model_id": "eefe9448b2a549ef910d3f436b309894",
       "version_major": 2,
       "version_minor": 0
      },
      "text/plain": [
       "Map:   0%|          | 0/30135 [00:00<?, ? examples/s]"
      ]
     },
     "metadata": {},
     "output_type": "display_data"
    }
   ],
   "source": [
    "from transformers import GPT2Tokenizer\n",
    "\n",
    "label2id = {'METHODS': 0, 'RESULTS': 1, 'CONCLUSIONS': 2, 'BACKGROUND': 3, 'OBJECTIVE': 4}\n",
    "id2label = ['METHODS', 'RESULTS', 'CONCLUSIONS', 'BACKGROUND', 'OBJECTIVE']\n",
    "\n",
    "\n",
    "gpt_tokenizer = GPT2Tokenizer.from_pretrained('gpt2')\n",
    "gpt_tokenizer.padding_side = \"left\"\n",
    "gpt_tokenizer.pad_token = gpt_tokenizer.eos_token\n",
    "\n",
    "def gpt_preprocess_function(examples):\n",
    "    result = gpt_tokenizer(examples['text'], truncation=True, padding=True, max_length=80)\n",
    "    result['label'] = [label2id[l] for l in examples['label']]\n",
    "    return result\n",
    "\n",
    "gpt_encoded_train_dataset = train_dataset.map(preprocess_function, batched=True) \n",
    "gpt_encoded_validation_dataset = validation_dataset.map(preprocess_function, batched=True) \n",
    "gpt_encoded_test_dataset = test_dataset.map(preprocess_function, batched=True)\n",
    "\n"
   ]
  },
  {
   "cell_type": "code",
   "execution_count": 81,
   "metadata": {},
   "outputs": [
    {
     "data": {
      "application/vnd.jupyter.widget-view+json": {
       "model_id": "8ee6bdc5377948138735ae9825cf0d60",
       "version_major": 2,
       "version_minor": 0
      },
      "text/plain": [
       "Downloading pytorch_model.bin:   0%|          | 0.00/548M [00:00<?, ?B/s]"
      ]
     },
     "metadata": {},
     "output_type": "display_data"
    },
    {
     "name": "stderr",
     "output_type": "stream",
     "text": [
      "Some weights of GPT2ForSequenceClassification were not initialized from the model checkpoint at gpt2 and are newly initialized: ['score.weight']\n",
      "You should probably TRAIN this model on a down-stream task to be able to use it for predictions and inference.\n",
      "/home/jaka/miniconda3/envs/ml4lg/lib/python3.10/site-packages/transformers/optimization.py:391: FutureWarning: This implementation of AdamW is deprecated and will be removed in a future version. Use the PyTorch implementation torch.optim.AdamW instead, or set `no_deprecation_warning=True` to disable this warning\n",
      "  warnings.warn(\n"
     ]
    },
    {
     "name": "stdout",
     "output_type": "stream",
     "text": [
      "{'loss': 1.125, 'learning_rate': 4.888928381020082e-05, 'epoch': 0.09}\n",
      "{'eval_loss': 0.7682552337646484, 'eval_accuracy': 0.701277638024626, 'eval_precision': 0.73167225224225, 'eval_recall': 0.701277638024626, 'eval_f1': 0.7039653563576614, 'eval_runtime': 87.6744, 'eval_samples_per_second': 344.593, 'eval_steps_per_second': 10.779, 'epoch': 0.09}\n",
      "{'loss': 0.73, 'learning_rate': 4.777856762040164e-05, 'epoch': 0.18}\n",
      "{'eval_loss': 0.6780767440795898, 'eval_accuracy': 0.747616840990335, 'eval_precision': 0.7621467430447444, 'eval_recall': 0.747616840990335, 'eval_f1': 0.7438172452926123, 'eval_runtime': 88.7452, 'eval_samples_per_second': 340.435, 'eval_steps_per_second': 10.648, 'epoch': 0.18}\n",
      "{'loss': 0.6496, 'learning_rate': 4.666785143060245e-05, 'epoch': 0.27}\n",
      "{'eval_loss': 0.5925609469413757, 'eval_accuracy': 0.7785317092546008, 'eval_precision': 0.777506564259446, 'eval_recall': 0.7785317092546008, 'eval_f1': 0.7743504963502791, 'eval_runtime': 88.648, 'eval_samples_per_second': 340.809, 'eval_steps_per_second': 10.66, 'epoch': 0.27}\n",
      "{'loss': 0.609, 'learning_rate': 4.5557135240803275e-05, 'epoch': 0.36}\n",
      "{'eval_loss': 0.5522889494895935, 'eval_accuracy': 0.793790546802595, 'eval_precision': 0.7906625307316024, 'eval_recall': 0.793790546802595, 'eval_f1': 0.7911187372122063, 'eval_runtime': 87.8175, 'eval_samples_per_second': 344.032, 'eval_steps_per_second': 10.761, 'epoch': 0.36}\n",
      "{'loss': 0.576, 'learning_rate': 4.444641905100409e-05, 'epoch': 0.44}\n",
      "{'eval_loss': 0.5468330979347229, 'eval_accuracy': 0.7973983847477824, 'eval_precision': 0.7953361306539046, 'eval_recall': 0.7973983847477824, 'eval_f1': 0.7937841644667163, 'eval_runtime': 87.8278, 'eval_samples_per_second': 343.991, 'eval_steps_per_second': 10.76, 'epoch': 0.44}\n",
      "{'loss': 0.5757, 'learning_rate': 4.333570286120491e-05, 'epoch': 0.53}\n",
      "{'eval_loss': 0.534919023513794, 'eval_accuracy': 0.8019330067522839, 'eval_precision': 0.8060068323756899, 'eval_recall': 0.8019330067522839, 'eval_f1': 0.8009588125015611, 'eval_runtime': 88.4692, 'eval_samples_per_second': 341.497, 'eval_steps_per_second': 10.682, 'epoch': 0.53}\n",
      "{'loss': 0.5501, 'learning_rate': 4.2224986671405726e-05, 'epoch': 0.62}\n",
      "{'eval_loss': 0.5153141617774963, 'eval_accuracy': 0.8093141797961075, 'eval_precision': 0.8164597540596631, 'eval_recall': 0.8093141797961075, 'eval_f1': 0.8098238897070302, 'eval_runtime': 88.2558, 'eval_samples_per_second': 342.323, 'eval_steps_per_second': 10.708, 'epoch': 0.62}\n",
      "{'loss': 0.5463, 'learning_rate': 4.111427048160654e-05, 'epoch': 0.71}\n",
      "{'eval_loss': 0.4993058443069458, 'eval_accuracy': 0.8152389778895803, 'eval_precision': 0.8161123585201973, 'eval_recall': 0.8152389778895803, 'eval_f1': 0.8135331553680877, 'eval_runtime': 88.4062, 'eval_samples_per_second': 341.741, 'eval_steps_per_second': 10.689, 'epoch': 0.71}\n",
      "{'loss': 0.5293, 'learning_rate': 4.000355429180736e-05, 'epoch': 0.8}\n",
      "{'eval_loss': 0.4870554804801941, 'eval_accuracy': 0.8180524294982127, 'eval_precision': 0.8186951618020294, 'eval_recall': 0.8180524294982127, 'eval_f1': 0.8168436018723493, 'eval_runtime': 88.0624, 'eval_samples_per_second': 343.075, 'eval_steps_per_second': 10.731, 'epoch': 0.8}\n",
      "{'loss': 0.52, 'learning_rate': 3.8892838102008176e-05, 'epoch': 0.89}\n",
      "{'eval_loss': 0.4854010045528412, 'eval_accuracy': 0.8205017873692573, 'eval_precision': 0.8218988142304073, 'eval_recall': 0.8205017873692573, 'eval_f1': 0.8174585401116907, 'eval_runtime': 88.6279, 'eval_samples_per_second': 340.886, 'eval_steps_per_second': 10.663, 'epoch': 0.89}\n",
      "{'loss': 0.5122, 'learning_rate': 3.7782121912209e-05, 'epoch': 0.98}\n",
      "{'eval_loss': 0.48427706956863403, 'eval_accuracy': 0.8232159406858202, 'eval_precision': 0.8230098751115528, 'eval_recall': 0.8232159406858202, 'eval_f1': 0.8214653836108962, 'eval_runtime': 88.577, 'eval_samples_per_second': 341.082, 'eval_steps_per_second': 10.669, 'epoch': 0.98}\n",
      "{'loss': 0.4805, 'learning_rate': 3.667140572240981e-05, 'epoch': 1.07}\n",
      "{'eval_loss': 0.4809991121292114, 'eval_accuracy': 0.8216933668740898, 'eval_precision': 0.8290629514422279, 'eval_recall': 0.8216933668740898, 'eval_f1': 0.8220343231778285, 'eval_runtime': 88.7806, 'eval_samples_per_second': 340.299, 'eval_steps_per_second': 10.644, 'epoch': 1.07}\n",
      "{'loss': 0.464, 'learning_rate': 3.556068953261063e-05, 'epoch': 1.16}\n",
      "{'eval_loss': 0.4688169062137604, 'eval_accuracy': 0.8259300940023832, 'eval_precision': 0.8322224947676353, 'eval_recall': 0.8259300940023832, 'eval_f1': 0.82465312389562, 'eval_runtime': 88.1813, 'eval_samples_per_second': 342.612, 'eval_steps_per_second': 10.717, 'epoch': 1.16}\n",
      "{'loss': 0.4595, 'learning_rate': 3.444997334281145e-05, 'epoch': 1.24}\n",
      "{'eval_loss': 0.4878188967704773, 'eval_accuracy': 0.8217926651661591, 'eval_precision': 0.8272105033242486, 'eval_recall': 0.8217926651661591, 'eval_f1': 0.8229797999539185, 'eval_runtime': 87.3083, 'eval_samples_per_second': 346.038, 'eval_steps_per_second': 10.824, 'epoch': 1.24}\n",
      "{'loss': 0.4629, 'learning_rate': 3.3339257153012264e-05, 'epoch': 1.33}\n",
      "{'eval_loss': 0.46253958344459534, 'eval_accuracy': 0.8304316165761949, 'eval_precision': 0.8322471277966059, 'eval_recall': 0.8304316165761949, 'eval_f1': 0.8287638445250558, 'eval_runtime': 88.39, 'eval_samples_per_second': 341.803, 'eval_steps_per_second': 10.691, 'epoch': 1.33}\n",
      "{'loss': 0.4534, 'learning_rate': 3.2228540963213085e-05, 'epoch': 1.42}\n",
      "{'eval_loss': 0.4648180902004242, 'eval_accuracy': 0.8296041308089501, 'eval_precision': 0.8265612291314121, 'eval_recall': 0.8296041308089501, 'eval_f1': 0.8264816810408285, 'eval_runtime': 88.4938, 'eval_samples_per_second': 341.402, 'eval_steps_per_second': 10.679, 'epoch': 1.42}\n",
      "{'loss': 0.4564, 'learning_rate': 3.11178247734139e-05, 'epoch': 1.51}\n",
      "{'eval_loss': 0.4568558931350708, 'eval_accuracy': 0.830729511452403, 'eval_precision': 0.8325743182048553, 'eval_recall': 0.830729511452403, 'eval_f1': 0.8299702080621886, 'eval_runtime': 88.4153, 'eval_samples_per_second': 341.705, 'eval_steps_per_second': 10.688, 'epoch': 1.51}\n",
      "{'loss': 0.4542, 'learning_rate': 3.0007108583614718e-05, 'epoch': 1.6}\n",
      "{'eval_loss': 0.4564734697341919, 'eval_accuracy': 0.831854892095856, 'eval_precision': 0.8340136568184271, 'eval_recall': 0.831854892095856, 'eval_f1': 0.8309384540483428, 'eval_runtime': 88.8779, 'eval_samples_per_second': 339.927, 'eval_steps_per_second': 10.633, 'epoch': 1.6}\n",
      "{'loss': 0.4526, 'learning_rate': 2.8896392393815536e-05, 'epoch': 1.69}\n",
      "{'eval_loss': 0.4564139246940613, 'eval_accuracy': 0.8320534886799947, 'eval_precision': 0.8362570690156191, 'eval_recall': 0.8320534886799947, 'eval_f1': 0.8307314592135807, 'eval_runtime': 88.3473, 'eval_samples_per_second': 341.969, 'eval_steps_per_second': 10.696, 'epoch': 1.69}\n",
      "{'loss': 0.4419, 'learning_rate': 2.7785676204016354e-05, 'epoch': 1.78}\n",
      "{'eval_loss': 0.4492083787918091, 'eval_accuracy': 0.8382430822189858, 'eval_precision': 0.8346097922990624, 'eval_recall': 0.8382430822189858, 'eval_f1': 0.8353677709829802, 'eval_runtime': 87.9744, 'eval_samples_per_second': 343.418, 'eval_steps_per_second': 10.742, 'epoch': 1.78}\n",
      "{'loss': 0.4482, 'learning_rate': 2.6674960014217172e-05, 'epoch': 1.87}\n",
      "{'eval_loss': 0.4439973533153534, 'eval_accuracy': 0.8337415596451742, 'eval_precision': 0.8395424304445566, 'eval_recall': 0.8337415596451742, 'eval_f1': 0.8326434506194401, 'eval_runtime': 88.0342, 'eval_samples_per_second': 343.185, 'eval_steps_per_second': 10.734, 'epoch': 1.87}\n",
      "{'loss': 0.4479, 'learning_rate': 2.5564243824417987e-05, 'epoch': 1.95}\n",
      "{'eval_loss': 0.4400330185890198, 'eval_accuracy': 0.8380113862041573, 'eval_precision': 0.839557769785908, 'eval_recall': 0.8380113862041573, 'eval_f1': 0.8356133193165491, 'eval_runtime': 88.7149, 'eval_samples_per_second': 340.551, 'eval_steps_per_second': 10.652, 'epoch': 1.95}\n",
      "{'loss': 0.4094, 'learning_rate': 2.44535276346188e-05, 'epoch': 2.04}\n",
      "{'eval_loss': 0.4550701379776001, 'eval_accuracy': 0.8388388719714021, 'eval_precision': 0.8367518217752355, 'eval_recall': 0.8388388719714021, 'eval_f1': 0.8364168271365093, 'eval_runtime': 88.1481, 'eval_samples_per_second': 342.741, 'eval_steps_per_second': 10.721, 'epoch': 2.04}\n",
      "{'loss': 0.3915, 'learning_rate': 2.334281144481962e-05, 'epoch': 2.13}\n",
      "{'eval_loss': 0.44291090965270996, 'eval_accuracy': 0.8391698662783, 'eval_precision': 0.8389651226250054, 'eval_recall': 0.8391698662783, 'eval_f1': 0.8382355662808996, 'eval_runtime': 88.8839, 'eval_samples_per_second': 339.904, 'eval_steps_per_second': 10.632, 'epoch': 2.13}\n",
      "{'loss': 0.394, 'learning_rate': 2.2232095255020438e-05, 'epoch': 2.22}\n",
      "{'eval_loss': 0.4655000865459442, 'eval_accuracy': 0.8338408579372435, 'eval_precision': 0.8303217893996424, 'eval_recall': 0.8338408579372435, 'eval_f1': 0.8304693213009874, 'eval_runtime': 87.5389, 'eval_samples_per_second': 345.127, 'eval_steps_per_second': 10.795, 'epoch': 2.22}\n",
      "{'loss': 0.3853, 'learning_rate': 2.1121379065221256e-05, 'epoch': 2.31}\n",
      "{'eval_loss': 0.43977227807044983, 'eval_accuracy': 0.841718522441414, 'eval_precision': 0.8401515350621417, 'eval_recall': 0.841718522441414, 'eval_f1': 0.8398832466771233, 'eval_runtime': 87.8416, 'eval_samples_per_second': 343.937, 'eval_steps_per_second': 10.758, 'epoch': 2.31}\n",
      "{'loss': 0.4015, 'learning_rate': 2.0010662875422074e-05, 'epoch': 2.4}\n",
      "{'eval_loss': 0.43879568576812744, 'eval_accuracy': 0.8421157156096916, 'eval_precision': 0.8421660852511388, 'eval_recall': 0.8421157156096916, 'eval_f1': 0.8403674803081295, 'eval_runtime': 87.7982, 'eval_samples_per_second': 344.107, 'eval_steps_per_second': 10.763, 'epoch': 2.4}\n",
      "{'loss': 0.3803, 'learning_rate': 1.8899946685622892e-05, 'epoch': 2.49}\n",
      "{'eval_loss': 0.4425041675567627, 'eval_accuracy': 0.8409572355355488, 'eval_precision': 0.8410467958267623, 'eval_recall': 0.8409572355355488, 'eval_f1': 0.8398556289101067, 'eval_runtime': 90.0851, 'eval_samples_per_second': 335.372, 'eval_steps_per_second': 10.49, 'epoch': 2.49}\n",
      "{'loss': 0.3936, 'learning_rate': 1.778923049582371e-05, 'epoch': 2.58}\n",
      "{'eval_loss': 0.4360560476779938, 'eval_accuracy': 0.8432079968224546, 'eval_precision': 0.8438705839089745, 'eval_recall': 0.8432079968224546, 'eval_f1': 0.8417447611304285, 'eval_runtime': 88.1528, 'eval_samples_per_second': 342.723, 'eval_steps_per_second': 10.72, 'epoch': 2.58}\n",
      "{'loss': 0.4017, 'learning_rate': 1.6678514306024525e-05, 'epoch': 2.67}\n",
      "{'eval_loss': 0.4367002844810486, 'eval_accuracy': 0.8426122070700384, 'eval_precision': 0.8417534939634401, 'eval_recall': 0.8426122070700384, 'eval_f1': 0.8411763638602623, 'eval_runtime': 88.3717, 'eval_samples_per_second': 341.874, 'eval_steps_per_second': 10.693, 'epoch': 2.67}\n",
      "{'loss': 0.4065, 'learning_rate': 1.5567798116225343e-05, 'epoch': 2.75}\n",
      "{'eval_loss': 0.4379778802394867, 'eval_accuracy': 0.8420826161790017, 'eval_precision': 0.8419372062265014, 'eval_recall': 0.8420826161790017, 'eval_f1': 0.840759888544534, 'eval_runtime': 88.7399, 'eval_samples_per_second': 340.455, 'eval_steps_per_second': 10.649, 'epoch': 2.75}\n",
      "{'loss': 0.3835, 'learning_rate': 1.445708192642616e-05, 'epoch': 2.84}\n",
      "{'eval_loss': 0.43423569202423096, 'eval_accuracy': 0.844101681451079, 'eval_precision': 0.8441534414547268, 'eval_recall': 0.844101681451079, 'eval_f1': 0.8418152333397635, 'eval_runtime': 87.9415, 'eval_samples_per_second': 343.547, 'eval_steps_per_second': 10.746, 'epoch': 2.84}\n",
      "{'loss': 0.3833, 'learning_rate': 1.3346365736626979e-05, 'epoch': 2.93}\n",
      "{'eval_loss': 0.4464230239391327, 'eval_accuracy': 0.8410234343969284, 'eval_precision': 0.8412425497599584, 'eval_recall': 0.8410234343969284, 'eval_f1': 0.838319112333598, 'eval_runtime': 88.5841, 'eval_samples_per_second': 341.054, 'eval_steps_per_second': 10.668, 'epoch': 2.93}\n",
      "{'loss': 0.3744, 'learning_rate': 1.2235649546827795e-05, 'epoch': 3.02}\n",
      "{'eval_loss': 0.441753089427948, 'eval_accuracy': 0.8430755990996955, 'eval_precision': 0.8466412838080968, 'eval_recall': 0.8430755990996955, 'eval_f1': 0.8413257355705025, 'eval_runtime': 88.5977, 'eval_samples_per_second': 341.002, 'eval_steps_per_second': 10.666, 'epoch': 3.02}\n",
      "{'loss': 0.3469, 'learning_rate': 1.1124933357028612e-05, 'epoch': 3.11}\n",
      "{'eval_loss': 0.44618701934814453, 'eval_accuracy': 0.8430094002383159, 'eval_precision': 0.8446908005071317, 'eval_recall': 0.8430094002383159, 'eval_f1': 0.8409289032392736, 'eval_runtime': 89.0075, 'eval_samples_per_second': 339.432, 'eval_steps_per_second': 10.617, 'epoch': 3.11}\n",
      "{'train_runtime': 8533.3458, 'train_samples_per_second': 84.394, 'train_steps_per_second': 2.638, 'train_loss': 0.48562076590401787, 'epoch': 3.11}\n"
     ]
    },
    {
     "data": {
      "text/plain": [
       "TrainOutput(global_step=17500, training_loss=0.48562076590401787, metrics={'train_runtime': 8533.3458, 'train_samples_per_second': 84.394, 'train_steps_per_second': 2.638, 'train_loss': 0.48562076590401787, 'epoch': 3.11})"
      ]
     },
     "execution_count": 81,
     "metadata": {},
     "output_type": "execute_result"
    }
   ],
   "source": [
    "from transformers import GPT2ForSequenceClassification\n",
    "\n",
    "# clear GPU memory\n",
    "trainer = None\n",
    "model = None\n",
    "gc.collect()\n",
    "with torch.no_grad():\n",
    "    torch.cuda.empty_cache()\n",
    "\n",
    "\n",
    "model = GPT2ForSequenceClassification.from_pretrained(\"gpt2\", num_labels=len(id2label))\n",
    "# resize model embedding to match new tokenizer\n",
    "model.resize_token_embeddings(len(gpt_tokenizer))\n",
    "# fix model padding token id\n",
    "model.config.pad_token_id = model.config.eos_token_id\n",
    "model.cuda()\n",
    "\n",
    "\n",
    "training_args = TrainingArguments(\n",
    "    output_dir=\"final_model_gpt\",\n",
    "    # learning_rate=2e-5,\n",
    "    num_train_epochs=4,\n",
    "    evaluation_strategy=\"steps\",\n",
    "    logging_strategy=\"steps\",\n",
    "    save_strategy=\"steps\",\n",
    "    # save_steps=100,\n",
    "    # eval_steps=100,\n",
    "    # logging_steps=100,\n",
    "    disable_tqdm=True,\n",
    "    per_device_train_batch_size = 32,\n",
    "    per_device_eval_batch_size  = 32,\n",
    "    save_total_limit = 3,\n",
    "    metric_for_best_model = 'f1',\n",
    "    load_best_model_at_end=True\n",
    ")\n",
    "\n",
    "trainer = Trainer(\n",
    "    model=model,\n",
    "    args=training_args,\n",
    "    train_dataset=gpt_encoded_train_dataset,\n",
    "    eval_dataset=gpt_encoded_validation_dataset,\n",
    "    compute_metrics=compute_metrics,\n",
    "    tokenizer=tokenizer,\n",
    "    callbacks = [EarlyStoppingCallback(early_stopping_patience=3)]\n",
    "\n",
    ")\n",
    "\n",
    "trainer.train()"
   ]
  },
  {
   "attachments": {},
   "cell_type": "markdown",
   "metadata": {},
   "source": [
    "### Evaluate on validation data"
   ]
  },
  {
   "cell_type": "code",
   "execution_count": 82,
   "metadata": {},
   "outputs": [
    {
     "name": "stdout",
     "output_type": "stream",
     "text": [
      "{'eval_loss': 0.43423569202423096, 'eval_accuracy': 0.844101681451079, 'eval_precision': 0.8441534414547268, 'eval_recall': 0.844101681451079, 'eval_f1': 0.8418152333397635, 'eval_runtime': 86.0341, 'eval_samples_per_second': 351.163, 'eval_steps_per_second': 10.984, 'epoch': 3.11}\n"
     ]
    }
   ],
   "source": [
    "gpt_eval_results = trainer.evaluate()"
   ]
  },
  {
   "attachments": {},
   "cell_type": "markdown",
   "metadata": {},
   "source": [
    "### Evaluate on test data"
   ]
  },
  {
   "cell_type": "code",
   "execution_count": 83,
   "metadata": {},
   "outputs": [
    {
     "data": {
      "text/plain": [
       "{'test_loss': 0.3901568651199341,\n",
       " 'test_accuracy': 0.8628173220507716,\n",
       " 'test_precision': 0.8645966545933981,\n",
       " 'test_recall': 0.8628173220507716,\n",
       " 'test_f1': 0.8620222763067675,\n",
       " 'test_runtime': 81.2939,\n",
       " 'test_samples_per_second': 370.692,\n",
       " 'test_steps_per_second': 11.588}"
      ]
     },
     "execution_count": 83,
     "metadata": {},
     "output_type": "execute_result"
    }
   ],
   "source": [
    "# Predictions\n",
    "gpt_predictions = trainer.predict(gpt_encoded_test_dataset)\n",
    "\n",
    "# print metrics\n",
    "predictions[2]"
   ]
  },
  {
   "cell_type": "code",
   "execution_count": null,
   "metadata": {},
   "outputs": [],
   "source": []
  }
 ],
 "metadata": {
  "kernelspec": {
   "display_name": "ML4LG",
   "language": "python",
   "name": "python3"
  },
  "language_info": {
   "codemirror_mode": {
    "name": "ipython",
    "version": 3
   },
   "file_extension": ".py",
   "mimetype": "text/x-python",
   "name": "python",
   "nbconvert_exporter": "python",
   "pygments_lexer": "ipython3",
   "version": "3.10.10"
  },
  "orig_nbformat": 4,
  "vscode": {
   "interpreter": {
    "hash": "bb8c673c4ca179523ccb5183d0da3b2feca0a585d70f38272ed75dcb3fcdc5f2"
   }
  }
 },
 "nbformat": 4,
 "nbformat_minor": 2
}
